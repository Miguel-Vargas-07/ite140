{
 "cells": [
  {
   "cell_type": "markdown",
   "metadata": {},
   "source": [
    "# Sentiment Analyses"
   ]
  },
  {
   "cell_type": "markdown",
   "metadata": {},
   "source": [
    "#### Sentiment Analyses uses *Polarity* and *Subjectivity* to analyze text"
   ]
  },
  {
   "cell_type": "markdown",
   "metadata": {},
   "source": [
    "## Polarity\n",
    "- Measures the sentiment or emotion of a text, ranging from -1 to 1 (Negative and Positive)"
   ]
  },
  {
   "cell_type": "markdown",
   "metadata": {},
   "source": [
    "## Subjectivity\n",
    "- Indicates how much of the text is based on personal opinion, ranging from 0 to 1 (Objective and Subjective)"
   ]
  },
  {
   "cell_type": "markdown",
   "metadata": {},
   "source": [
    "## Downloads\n",
    "\n"
   ]
  },
  {
   "cell_type": "code",
   "execution_count": 68,
   "metadata": {},
   "outputs": [
    {
     "name": "stdout",
     "output_type": "stream",
     "text": [
      "Defaulting to user installation because normal site-packages is not writeable\n",
      "Requirement already satisfied: nbformat in /Users/1003427/Library/Python/3.9/lib/python/site-packages (5.10.4)\n",
      "Requirement already satisfied: jupyter-core!=5.0.*,>=4.12 in /Users/1003427/Library/Python/3.9/lib/python/site-packages (from nbformat) (5.7.2)\n",
      "Requirement already satisfied: fastjsonschema>=2.15 in /Users/1003427/Library/Python/3.9/lib/python/site-packages (from nbformat) (2.20.0)\n",
      "Requirement already satisfied: traitlets>=5.1 in /Users/1003427/Library/Python/3.9/lib/python/site-packages (from nbformat) (5.14.3)\n",
      "Requirement already satisfied: jsonschema>=2.6 in /Users/1003427/Library/Python/3.9/lib/python/site-packages (from nbformat) (4.23.0)\n",
      "Requirement already satisfied: jsonschema-specifications>=2023.03.6 in /Users/1003427/Library/Python/3.9/lib/python/site-packages (from jsonschema>=2.6->nbformat) (2023.12.1)\n",
      "Requirement already satisfied: referencing>=0.28.4 in /Users/1003427/Library/Python/3.9/lib/python/site-packages (from jsonschema>=2.6->nbformat) (0.35.1)\n",
      "Requirement already satisfied: rpds-py>=0.7.1 in /Users/1003427/Library/Python/3.9/lib/python/site-packages (from jsonschema>=2.6->nbformat) (0.20.0)\n",
      "Requirement already satisfied: attrs>=22.2.0 in /Users/1003427/Library/Python/3.9/lib/python/site-packages (from jsonschema>=2.6->nbformat) (24.2.0)\n",
      "Requirement already satisfied: platformdirs>=2.5 in /Users/1003427/Library/Python/3.9/lib/python/site-packages (from jupyter-core!=5.0.*,>=4.12->nbformat) (4.3.3)\n"
     ]
    },
    {
     "name": "stderr",
     "output_type": "stream",
     "text": [
      "WARNING: You are using pip version 21.2.4; however, version 24.2 is available.\n",
      "You should consider upgrading via the '/Library/Developer/CommandLineTools/usr/bin/python3 -m pip install --upgrade pip' command.\n"
     ]
    },
    {
     "name": "stdout",
     "output_type": "stream",
     "text": [
      "Defaulting to user installation because normal site-packages is not writeable\n",
      "Requirement already satisfied: spacytextblob in /Users/1003427/Library/Python/3.9/lib/python/site-packages (4.0.0)\n",
      "Requirement already satisfied: spacy<4.0,>=3.0 in /Users/1003427/Library/Python/3.9/lib/python/site-packages (from spacytextblob) (3.5.4)\n",
      "Requirement already satisfied: textblob<0.16.0,>=0.15.3 in /Users/1003427/Library/Python/3.9/lib/python/site-packages (from spacytextblob) (0.15.3)\n",
      "Requirement already satisfied: packaging>=20.0 in /Users/1003427/Library/Python/3.9/lib/python/site-packages (from spacy<4.0,>=3.0->spacytextblob) (24.1)\n",
      "Requirement already satisfied: wasabi<1.2.0,>=0.9.1 in /Users/1003427/Library/Python/3.9/lib/python/site-packages (from spacy<4.0,>=3.0->spacytextblob) (1.1.3)\n",
      "Requirement already satisfied: langcodes<4.0.0,>=3.2.0 in /Users/1003427/Library/Python/3.9/lib/python/site-packages (from spacy<4.0,>=3.0->spacytextblob) (3.4.1)\n",
      "Requirement already satisfied: spacy-legacy<3.1.0,>=3.0.11 in /Users/1003427/Library/Python/3.9/lib/python/site-packages (from spacy<4.0,>=3.0->spacytextblob) (3.0.12)\n",
      "Requirement already satisfied: pathy>=0.10.0 in /Users/1003427/Library/Python/3.9/lib/python/site-packages (from spacy<4.0,>=3.0->spacytextblob) (0.11.0)\n",
      "Requirement already satisfied: preshed<3.1.0,>=3.0.2 in /Users/1003427/Library/Python/3.9/lib/python/site-packages (from spacy<4.0,>=3.0->spacytextblob) (3.0.9)\n",
      "Requirement already satisfied: typer<0.10.0,>=0.3.0 in /Users/1003427/Library/Python/3.9/lib/python/site-packages (from spacy<4.0,>=3.0->spacytextblob) (0.9.4)\n",
      "Requirement already satisfied: setuptools in /Library/Developer/CommandLineTools/Library/Frameworks/Python3.framework/Versions/3.9/lib/python3.9/site-packages (from spacy<4.0,>=3.0->spacytextblob) (58.0.4)\n",
      "Requirement already satisfied: pydantic!=1.8,!=1.8.1,<1.11.0,>=1.7.4 in /Users/1003427/Library/Python/3.9/lib/python/site-packages (from spacy<4.0,>=3.0->spacytextblob) (1.10.18)\n",
      "Requirement already satisfied: spacy-loggers<2.0.0,>=1.0.0 in /Users/1003427/Library/Python/3.9/lib/python/site-packages (from spacy<4.0,>=3.0->spacytextblob) (1.0.5)\n",
      "Requirement already satisfied: requests<3.0.0,>=2.13.0 in /Users/1003427/Library/Python/3.9/lib/python/site-packages (from spacy<4.0,>=3.0->spacytextblob) (2.32.3)\n",
      "Requirement already satisfied: thinc<8.2.0,>=8.1.8 in /Users/1003427/Library/Python/3.9/lib/python/site-packages (from spacy<4.0,>=3.0->spacytextblob) (8.1.12)\n",
      "Requirement already satisfied: smart-open<7.0.0,>=5.2.1 in /Users/1003427/Library/Python/3.9/lib/python/site-packages (from spacy<4.0,>=3.0->spacytextblob) (6.4.0)\n",
      "Requirement already satisfied: tqdm<5.0.0,>=4.38.0 in /Users/1003427/Library/Python/3.9/lib/python/site-packages (from spacy<4.0,>=3.0->spacytextblob) (4.66.5)\n",
      "Requirement already satisfied: cymem<2.1.0,>=2.0.2 in /Users/1003427/Library/Python/3.9/lib/python/site-packages (from spacy<4.0,>=3.0->spacytextblob) (2.0.8)\n",
      "Requirement already satisfied: murmurhash<1.1.0,>=0.28.0 in /Users/1003427/Library/Python/3.9/lib/python/site-packages (from spacy<4.0,>=3.0->spacytextblob) (1.0.10)\n",
      "Requirement already satisfied: srsly<3.0.0,>=2.4.3 in /Users/1003427/Library/Python/3.9/lib/python/site-packages (from spacy<4.0,>=3.0->spacytextblob) (2.4.8)\n",
      "Requirement already satisfied: jinja2 in /Users/1003427/Library/Python/3.9/lib/python/site-packages (from spacy<4.0,>=3.0->spacytextblob) (3.1.4)\n",
      "Requirement already satisfied: catalogue<2.1.0,>=2.0.6 in /Users/1003427/Library/Python/3.9/lib/python/site-packages (from spacy<4.0,>=3.0->spacytextblob) (2.0.10)\n",
      "Requirement already satisfied: numpy>=1.15.0 in /Users/1003427/Library/Python/3.9/lib/python/site-packages (from spacy<4.0,>=3.0->spacytextblob) (2.0.2)\n",
      "Requirement already satisfied: language-data>=1.2 in /Users/1003427/Library/Python/3.9/lib/python/site-packages (from langcodes<4.0.0,>=3.2.0->spacy<4.0,>=3.0->spacytextblob) (1.2.0)\n",
      "Requirement already satisfied: marisa-trie>=0.7.7 in /Users/1003427/Library/Python/3.9/lib/python/site-packages (from language-data>=1.2->langcodes<4.0.0,>=3.2.0->spacy<4.0,>=3.0->spacytextblob) (1.2.0)\n",
      "Requirement already satisfied: pathlib-abc==0.1.1 in /Users/1003427/Library/Python/3.9/lib/python/site-packages (from pathy>=0.10.0->spacy<4.0,>=3.0->spacytextblob) (0.1.1)\n",
      "Requirement already satisfied: typing-extensions>=4.2.0 in /Users/1003427/Library/Python/3.9/lib/python/site-packages (from pydantic!=1.8,!=1.8.1,<1.11.0,>=1.7.4->spacy<4.0,>=3.0->spacytextblob) (4.12.2)\n",
      "Requirement already satisfied: certifi>=2017.4.17 in /Users/1003427/Library/Python/3.9/lib/python/site-packages (from requests<3.0.0,>=2.13.0->spacy<4.0,>=3.0->spacytextblob) (2024.8.30)\n",
      "Requirement already satisfied: charset-normalizer<4,>=2 in /Users/1003427/Library/Python/3.9/lib/python/site-packages (from requests<3.0.0,>=2.13.0->spacy<4.0,>=3.0->spacytextblob) (3.3.2)\n",
      "Requirement already satisfied: urllib3<3,>=1.21.1 in /Users/1003427/Library/Python/3.9/lib/python/site-packages (from requests<3.0.0,>=2.13.0->spacy<4.0,>=3.0->spacytextblob) (2.2.3)\n",
      "Requirement already satisfied: idna<4,>=2.5 in /Users/1003427/Library/Python/3.9/lib/python/site-packages (from requests<3.0.0,>=2.13.0->spacy<4.0,>=3.0->spacytextblob) (3.10)\n",
      "Requirement already satisfied: nltk>=3.1 in /Users/1003427/Library/Python/3.9/lib/python/site-packages (from textblob<0.16.0,>=0.15.3->spacytextblob) (3.9.1)\n",
      "Requirement already satisfied: joblib in /Users/1003427/Library/Python/3.9/lib/python/site-packages (from nltk>=3.1->textblob<0.16.0,>=0.15.3->spacytextblob) (1.4.2)\n",
      "Requirement already satisfied: click in /Users/1003427/Library/Python/3.9/lib/python/site-packages (from nltk>=3.1->textblob<0.16.0,>=0.15.3->spacytextblob) (8.1.7)\n",
      "Requirement already satisfied: regex>=2021.8.3 in /Users/1003427/Library/Python/3.9/lib/python/site-packages (from nltk>=3.1->textblob<0.16.0,>=0.15.3->spacytextblob) (2024.9.11)\n",
      "Requirement already satisfied: confection<1.0.0,>=0.0.1 in /Users/1003427/Library/Python/3.9/lib/python/site-packages (from thinc<8.2.0,>=8.1.8->spacy<4.0,>=3.0->spacytextblob) (0.1.5)\n",
      "Requirement already satisfied: blis<0.8.0,>=0.7.8 in /Users/1003427/Library/Python/3.9/lib/python/site-packages (from thinc<8.2.0,>=8.1.8->spacy<4.0,>=3.0->spacytextblob) (0.7.11)\n",
      "Requirement already satisfied: MarkupSafe>=2.0 in /Users/1003427/Library/Python/3.9/lib/python/site-packages (from jinja2->spacy<4.0,>=3.0->spacytextblob) (2.1.5)\n"
     ]
    },
    {
     "name": "stderr",
     "output_type": "stream",
     "text": [
      "WARNING: You are using pip version 21.2.4; however, version 24.2 is available.\n",
      "You should consider upgrading via the '/Library/Developer/CommandLineTools/usr/bin/python3 -m pip install --upgrade pip' command.\n"
     ]
    },
    {
     "name": "stdout",
     "output_type": "stream",
     "text": [
      "Defaulting to user installation because normal site-packages is not writeable\n",
      "Requirement already satisfied: spacy in /Users/1003427/Library/Python/3.9/lib/python/site-packages (3.5.4)\n",
      "Requirement already satisfied: thinc<8.2.0,>=8.1.8 in /Users/1003427/Library/Python/3.9/lib/python/site-packages (from spacy) (8.1.12)\n",
      "Requirement already satisfied: catalogue<2.1.0,>=2.0.6 in /Users/1003427/Library/Python/3.9/lib/python/site-packages (from spacy) (2.0.10)\n",
      "Requirement already satisfied: spacy-legacy<3.1.0,>=3.0.11 in /Users/1003427/Library/Python/3.9/lib/python/site-packages (from spacy) (3.0.12)\n",
      "Requirement already satisfied: murmurhash<1.1.0,>=0.28.0 in /Users/1003427/Library/Python/3.9/lib/python/site-packages (from spacy) (1.0.10)\n",
      "Requirement already satisfied: requests<3.0.0,>=2.13.0 in /Users/1003427/Library/Python/3.9/lib/python/site-packages (from spacy) (2.32.3)\n",
      "Requirement already satisfied: jinja2 in /Users/1003427/Library/Python/3.9/lib/python/site-packages (from spacy) (3.1.4)\n",
      "Requirement already satisfied: tqdm<5.0.0,>=4.38.0 in /Users/1003427/Library/Python/3.9/lib/python/site-packages (from spacy) (4.66.5)\n",
      "Requirement already satisfied: langcodes<4.0.0,>=3.2.0 in /Users/1003427/Library/Python/3.9/lib/python/site-packages (from spacy) (3.4.1)\n",
      "Requirement already satisfied: cymem<2.1.0,>=2.0.2 in /Users/1003427/Library/Python/3.9/lib/python/site-packages (from spacy) (2.0.8)\n",
      "Requirement already satisfied: wasabi<1.2.0,>=0.9.1 in /Users/1003427/Library/Python/3.9/lib/python/site-packages (from spacy) (1.1.3)\n",
      "Requirement already satisfied: typer<0.10.0,>=0.3.0 in /Users/1003427/Library/Python/3.9/lib/python/site-packages (from spacy) (0.9.4)\n",
      "Requirement already satisfied: packaging>=20.0 in /Users/1003427/Library/Python/3.9/lib/python/site-packages (from spacy) (24.1)\n",
      "Requirement already satisfied: setuptools in /Library/Developer/CommandLineTools/Library/Frameworks/Python3.framework/Versions/3.9/lib/python3.9/site-packages (from spacy) (58.0.4)\n",
      "Requirement already satisfied: numpy>=1.15.0 in /Users/1003427/Library/Python/3.9/lib/python/site-packages (from spacy) (2.0.2)\n",
      "Requirement already satisfied: pathy>=0.10.0 in /Users/1003427/Library/Python/3.9/lib/python/site-packages (from spacy) (0.11.0)\n",
      "Requirement already satisfied: smart-open<7.0.0,>=5.2.1 in /Users/1003427/Library/Python/3.9/lib/python/site-packages (from spacy) (6.4.0)\n",
      "Requirement already satisfied: pydantic!=1.8,!=1.8.1,<1.11.0,>=1.7.4 in /Users/1003427/Library/Python/3.9/lib/python/site-packages (from spacy) (1.10.18)\n",
      "Requirement already satisfied: spacy-loggers<2.0.0,>=1.0.0 in /Users/1003427/Library/Python/3.9/lib/python/site-packages (from spacy) (1.0.5)\n",
      "Requirement already satisfied: srsly<3.0.0,>=2.4.3 in /Users/1003427/Library/Python/3.9/lib/python/site-packages (from spacy) (2.4.8)\n",
      "Requirement already satisfied: preshed<3.1.0,>=3.0.2 in /Users/1003427/Library/Python/3.9/lib/python/site-packages (from spacy) (3.0.9)\n",
      "Requirement already satisfied: language-data>=1.2 in /Users/1003427/Library/Python/3.9/lib/python/site-packages (from langcodes<4.0.0,>=3.2.0->spacy) (1.2.0)\n",
      "Requirement already satisfied: marisa-trie>=0.7.7 in /Users/1003427/Library/Python/3.9/lib/python/site-packages (from language-data>=1.2->langcodes<4.0.0,>=3.2.0->spacy) (1.2.0)\n",
      "Requirement already satisfied: pathlib-abc==0.1.1 in /Users/1003427/Library/Python/3.9/lib/python/site-packages (from pathy>=0.10.0->spacy) (0.1.1)\n",
      "Requirement already satisfied: typing-extensions>=4.2.0 in /Users/1003427/Library/Python/3.9/lib/python/site-packages (from pydantic!=1.8,!=1.8.1,<1.11.0,>=1.7.4->spacy) (4.12.2)\n",
      "Requirement already satisfied: urllib3<3,>=1.21.1 in /Users/1003427/Library/Python/3.9/lib/python/site-packages (from requests<3.0.0,>=2.13.0->spacy) (2.2.3)\n",
      "Requirement already satisfied: charset-normalizer<4,>=2 in /Users/1003427/Library/Python/3.9/lib/python/site-packages (from requests<3.0.0,>=2.13.0->spacy) (3.3.2)\n",
      "Requirement already satisfied: certifi>=2017.4.17 in /Users/1003427/Library/Python/3.9/lib/python/site-packages (from requests<3.0.0,>=2.13.0->spacy) (2024.8.30)\n",
      "Requirement already satisfied: idna<4,>=2.5 in /Users/1003427/Library/Python/3.9/lib/python/site-packages (from requests<3.0.0,>=2.13.0->spacy) (3.10)\n",
      "Requirement already satisfied: blis<0.8.0,>=0.7.8 in /Users/1003427/Library/Python/3.9/lib/python/site-packages (from thinc<8.2.0,>=8.1.8->spacy) (0.7.11)\n",
      "Requirement already satisfied: confection<1.0.0,>=0.0.1 in /Users/1003427/Library/Python/3.9/lib/python/site-packages (from thinc<8.2.0,>=8.1.8->spacy) (0.1.5)\n",
      "Requirement already satisfied: click<9.0.0,>=7.1.1 in /Users/1003427/Library/Python/3.9/lib/python/site-packages (from typer<0.10.0,>=0.3.0->spacy) (8.1.7)\n",
      "Requirement already satisfied: MarkupSafe>=2.0 in /Users/1003427/Library/Python/3.9/lib/python/site-packages (from jinja2->spacy) (2.1.5)\n"
     ]
    },
    {
     "name": "stderr",
     "output_type": "stream",
     "text": [
      "WARNING: You are using pip version 21.2.4; however, version 24.2 is available.\n",
      "You should consider upgrading via the '/Library/Developer/CommandLineTools/usr/bin/python3 -m pip install --upgrade pip' command.\n"
     ]
    },
    {
     "name": "stdout",
     "output_type": "stream",
     "text": [
      "Defaulting to user installation because normal site-packages is not writeable\n",
      "Requirement already satisfied: textblob in /Users/1003427/Library/Python/3.9/lib/python/site-packages (0.15.3)\n",
      "Requirement already satisfied: nltk>=3.1 in /Users/1003427/Library/Python/3.9/lib/python/site-packages (from textblob) (3.9.1)\n",
      "Requirement already satisfied: joblib in /Users/1003427/Library/Python/3.9/lib/python/site-packages (from nltk>=3.1->textblob) (1.4.2)\n",
      "Requirement already satisfied: tqdm in /Users/1003427/Library/Python/3.9/lib/python/site-packages (from nltk>=3.1->textblob) (4.66.5)\n",
      "Requirement already satisfied: click in /Users/1003427/Library/Python/3.9/lib/python/site-packages (from nltk>=3.1->textblob) (8.1.7)\n",
      "Requirement already satisfied: regex>=2021.8.3 in /Users/1003427/Library/Python/3.9/lib/python/site-packages (from nltk>=3.1->textblob) (2024.9.11)\n"
     ]
    },
    {
     "name": "stderr",
     "output_type": "stream",
     "text": [
      "WARNING: You are using pip version 21.2.4; however, version 24.2 is available.\n",
      "You should consider upgrading via the '/Library/Developer/CommandLineTools/usr/bin/python3 -m pip install --upgrade pip' command.\n"
     ]
    },
    {
     "name": "stdout",
     "output_type": "stream",
     "text": [
      "Defaulting to user installation because normal site-packages is not writeable\n",
      "Requirement already satisfied: spacy in /Users/1003427/Library/Python/3.9/lib/python/site-packages (3.5.4)\n",
      "Requirement already satisfied: download in /Users/1003427/Library/Python/3.9/lib/python/site-packages (0.3.5)\n",
      "Requirement already satisfied: en_core_web_sm in /Users/1003427/Library/Python/3.9/lib/python/site-packages (3.5.0)\n",
      "Requirement already satisfied: typer<0.10.0,>=0.3.0 in /Users/1003427/Library/Python/3.9/lib/python/site-packages (from spacy) (0.9.4)\n",
      "Requirement already satisfied: setuptools in /Library/Developer/CommandLineTools/Library/Frameworks/Python3.framework/Versions/3.9/lib/python3.9/site-packages (from spacy) (58.0.4)\n",
      "Requirement already satisfied: pathy>=0.10.0 in /Users/1003427/Library/Python/3.9/lib/python/site-packages (from spacy) (0.11.0)\n",
      "Requirement already satisfied: murmurhash<1.1.0,>=0.28.0 in /Users/1003427/Library/Python/3.9/lib/python/site-packages (from spacy) (1.0.10)\n",
      "Requirement already satisfied: preshed<3.1.0,>=3.0.2 in /Users/1003427/Library/Python/3.9/lib/python/site-packages (from spacy) (3.0.9)\n",
      "Requirement already satisfied: catalogue<2.1.0,>=2.0.6 in /Users/1003427/Library/Python/3.9/lib/python/site-packages (from spacy) (2.0.10)\n",
      "Requirement already satisfied: spacy-loggers<2.0.0,>=1.0.0 in /Users/1003427/Library/Python/3.9/lib/python/site-packages (from spacy) (1.0.5)\n",
      "Requirement already satisfied: pydantic!=1.8,!=1.8.1,<1.11.0,>=1.7.4 in /Users/1003427/Library/Python/3.9/lib/python/site-packages (from spacy) (1.10.18)\n",
      "Requirement already satisfied: tqdm<5.0.0,>=4.38.0 in /Users/1003427/Library/Python/3.9/lib/python/site-packages (from spacy) (4.66.5)\n",
      "Requirement already satisfied: requests<3.0.0,>=2.13.0 in /Users/1003427/Library/Python/3.9/lib/python/site-packages (from spacy) (2.32.3)\n",
      "Requirement already satisfied: wasabi<1.2.0,>=0.9.1 in /Users/1003427/Library/Python/3.9/lib/python/site-packages (from spacy) (1.1.3)\n",
      "Requirement already satisfied: jinja2 in /Users/1003427/Library/Python/3.9/lib/python/site-packages (from spacy) (3.1.4)\n",
      "Requirement already satisfied: langcodes<4.0.0,>=3.2.0 in /Users/1003427/Library/Python/3.9/lib/python/site-packages (from spacy) (3.4.1)\n",
      "Requirement already satisfied: srsly<3.0.0,>=2.4.3 in /Users/1003427/Library/Python/3.9/lib/python/site-packages (from spacy) (2.4.8)\n",
      "Requirement already satisfied: smart-open<7.0.0,>=5.2.1 in /Users/1003427/Library/Python/3.9/lib/python/site-packages (from spacy) (6.4.0)\n",
      "Requirement already satisfied: packaging>=20.0 in /Users/1003427/Library/Python/3.9/lib/python/site-packages (from spacy) (24.1)\n",
      "Requirement already satisfied: spacy-legacy<3.1.0,>=3.0.11 in /Users/1003427/Library/Python/3.9/lib/python/site-packages (from spacy) (3.0.12)\n",
      "Requirement already satisfied: numpy>=1.15.0 in /Users/1003427/Library/Python/3.9/lib/python/site-packages (from spacy) (2.0.2)\n",
      "Requirement already satisfied: thinc<8.2.0,>=8.1.8 in /Users/1003427/Library/Python/3.9/lib/python/site-packages (from spacy) (8.1.12)\n",
      "Requirement already satisfied: cymem<2.1.0,>=2.0.2 in /Users/1003427/Library/Python/3.9/lib/python/site-packages (from spacy) (2.0.8)\n",
      "Requirement already satisfied: six in /Library/Developer/CommandLineTools/Library/Frameworks/Python3.framework/Versions/3.9/lib/python3.9/site-packages (from download) (1.15.0)\n",
      "Requirement already satisfied: language-data>=1.2 in /Users/1003427/Library/Python/3.9/lib/python/site-packages (from langcodes<4.0.0,>=3.2.0->spacy) (1.2.0)\n",
      "Requirement already satisfied: marisa-trie>=0.7.7 in /Users/1003427/Library/Python/3.9/lib/python/site-packages (from language-data>=1.2->langcodes<4.0.0,>=3.2.0->spacy) (1.2.0)\n",
      "Requirement already satisfied: pathlib-abc==0.1.1 in /Users/1003427/Library/Python/3.9/lib/python/site-packages (from pathy>=0.10.0->spacy) (0.1.1)\n",
      "Requirement already satisfied: typing-extensions>=4.2.0 in /Users/1003427/Library/Python/3.9/lib/python/site-packages (from pydantic!=1.8,!=1.8.1,<1.11.0,>=1.7.4->spacy) (4.12.2)\n",
      "Requirement already satisfied: idna<4,>=2.5 in /Users/1003427/Library/Python/3.9/lib/python/site-packages (from requests<3.0.0,>=2.13.0->spacy) (3.10)\n",
      "Requirement already satisfied: charset-normalizer<4,>=2 in /Users/1003427/Library/Python/3.9/lib/python/site-packages (from requests<3.0.0,>=2.13.0->spacy) (3.3.2)\n",
      "Requirement already satisfied: urllib3<3,>=1.21.1 in /Users/1003427/Library/Python/3.9/lib/python/site-packages (from requests<3.0.0,>=2.13.0->spacy) (2.2.3)\n",
      "Requirement already satisfied: certifi>=2017.4.17 in /Users/1003427/Library/Python/3.9/lib/python/site-packages (from requests<3.0.0,>=2.13.0->spacy) (2024.8.30)\n",
      "Requirement already satisfied: confection<1.0.0,>=0.0.1 in /Users/1003427/Library/Python/3.9/lib/python/site-packages (from thinc<8.2.0,>=8.1.8->spacy) (0.1.5)\n",
      "Requirement already satisfied: blis<0.8.0,>=0.7.8 in /Users/1003427/Library/Python/3.9/lib/python/site-packages (from thinc<8.2.0,>=8.1.8->spacy) (0.7.11)\n",
      "Requirement already satisfied: click<9.0.0,>=7.1.1 in /Users/1003427/Library/Python/3.9/lib/python/site-packages (from typer<0.10.0,>=0.3.0->spacy) (8.1.7)\n",
      "Requirement already satisfied: MarkupSafe>=2.0 in /Users/1003427/Library/Python/3.9/lib/python/site-packages (from jinja2->spacy) (2.1.5)\n"
     ]
    },
    {
     "name": "stderr",
     "output_type": "stream",
     "text": [
      "WARNING: You are using pip version 21.2.4; however, version 24.2 is available.\n",
      "You should consider upgrading via the '/Library/Developer/CommandLineTools/usr/bin/python3 -m pip install --upgrade pip' command.\n"
     ]
    },
    {
     "name": "stdout",
     "output_type": "stream",
     "text": [
      "Defaulting to user installation because normal site-packages is not writeable\n",
      "Collecting https://github.com/explosion/spacy-models/releases/download/en_core_web_sm-3.5.0/en_core_web_sm-3.5.0.tar.gz\n",
      "  Downloading https://github.com/explosion/spacy-models/releases/download/en_core_web_sm-3.5.0/en_core_web_sm-3.5.0.tar.gz (12.8 MB)\n",
      "Requirement already satisfied: spacy<3.6.0,>=3.5.0 in /Users/1003427/Library/Python/3.9/lib/python/site-packages (from en-core-web-sm==3.5.0) (3.5.4)\n",
      "Requirement already satisfied: preshed<3.1.0,>=3.0.2 in /Users/1003427/Library/Python/3.9/lib/python/site-packages (from spacy<3.6.0,>=3.5.0->en-core-web-sm==3.5.0) (3.0.9)\n",
      "Requirement already satisfied: setuptools in /Library/Developer/CommandLineTools/Library/Frameworks/Python3.framework/Versions/3.9/lib/python3.9/site-packages (from spacy<3.6.0,>=3.5.0->en-core-web-sm==3.5.0) (58.0.4)\n",
      "Requirement already satisfied: spacy-loggers<2.0.0,>=1.0.0 in /Users/1003427/Library/Python/3.9/lib/python/site-packages (from spacy<3.6.0,>=3.5.0->en-core-web-sm==3.5.0) (1.0.5)\n",
      "Requirement already satisfied: catalogue<2.1.0,>=2.0.6 in /Users/1003427/Library/Python/3.9/lib/python/site-packages (from spacy<3.6.0,>=3.5.0->en-core-web-sm==3.5.0) (2.0.10)\n",
      "Requirement already satisfied: pydantic!=1.8,!=1.8.1,<1.11.0,>=1.7.4 in /Users/1003427/Library/Python/3.9/lib/python/site-packages (from spacy<3.6.0,>=3.5.0->en-core-web-sm==3.5.0) (1.10.18)\n",
      "Requirement already satisfied: tqdm<5.0.0,>=4.38.0 in /Users/1003427/Library/Python/3.9/lib/python/site-packages (from spacy<3.6.0,>=3.5.0->en-core-web-sm==3.5.0) (4.66.5)\n",
      "Requirement already satisfied: cymem<2.1.0,>=2.0.2 in /Users/1003427/Library/Python/3.9/lib/python/site-packages (from spacy<3.6.0,>=3.5.0->en-core-web-sm==3.5.0) (2.0.8)\n",
      "Requirement already satisfied: thinc<8.2.0,>=8.1.8 in /Users/1003427/Library/Python/3.9/lib/python/site-packages (from spacy<3.6.0,>=3.5.0->en-core-web-sm==3.5.0) (8.1.12)\n",
      "Requirement already satisfied: srsly<3.0.0,>=2.4.3 in /Users/1003427/Library/Python/3.9/lib/python/site-packages (from spacy<3.6.0,>=3.5.0->en-core-web-sm==3.5.0) (2.4.8)\n",
      "Requirement already satisfied: smart-open<7.0.0,>=5.2.1 in /Users/1003427/Library/Python/3.9/lib/python/site-packages (from spacy<3.6.0,>=3.5.0->en-core-web-sm==3.5.0) (6.4.0)\n",
      "Requirement already satisfied: packaging>=20.0 in /Users/1003427/Library/Python/3.9/lib/python/site-packages (from spacy<3.6.0,>=3.5.0->en-core-web-sm==3.5.0) (24.1)\n",
      "Requirement already satisfied: murmurhash<1.1.0,>=0.28.0 in /Users/1003427/Library/Python/3.9/lib/python/site-packages (from spacy<3.6.0,>=3.5.0->en-core-web-sm==3.5.0) (1.0.10)\n",
      "Requirement already satisfied: numpy>=1.15.0 in /Users/1003427/Library/Python/3.9/lib/python/site-packages (from spacy<3.6.0,>=3.5.0->en-core-web-sm==3.5.0) (2.0.2)\n",
      "Requirement already satisfied: typer<0.10.0,>=0.3.0 in /Users/1003427/Library/Python/3.9/lib/python/site-packages (from spacy<3.6.0,>=3.5.0->en-core-web-sm==3.5.0) (0.9.4)\n",
      "Requirement already satisfied: requests<3.0.0,>=2.13.0 in /Users/1003427/Library/Python/3.9/lib/python/site-packages (from spacy<3.6.0,>=3.5.0->en-core-web-sm==3.5.0) (2.32.3)\n",
      "Requirement already satisfied: pathy>=0.10.0 in /Users/1003427/Library/Python/3.9/lib/python/site-packages (from spacy<3.6.0,>=3.5.0->en-core-web-sm==3.5.0) (0.11.0)\n",
      "Requirement already satisfied: wasabi<1.2.0,>=0.9.1 in /Users/1003427/Library/Python/3.9/lib/python/site-packages (from spacy<3.6.0,>=3.5.0->en-core-web-sm==3.5.0) (1.1.3)\n",
      "Requirement already satisfied: langcodes<4.0.0,>=3.2.0 in /Users/1003427/Library/Python/3.9/lib/python/site-packages (from spacy<3.6.0,>=3.5.0->en-core-web-sm==3.5.0) (3.4.1)\n",
      "Requirement already satisfied: spacy-legacy<3.1.0,>=3.0.11 in /Users/1003427/Library/Python/3.9/lib/python/site-packages (from spacy<3.6.0,>=3.5.0->en-core-web-sm==3.5.0) (3.0.12)\n",
      "Requirement already satisfied: jinja2 in /Users/1003427/Library/Python/3.9/lib/python/site-packages (from spacy<3.6.0,>=3.5.0->en-core-web-sm==3.5.0) (3.1.4)\n",
      "Requirement already satisfied: language-data>=1.2 in /Users/1003427/Library/Python/3.9/lib/python/site-packages (from langcodes<4.0.0,>=3.2.0->spacy<3.6.0,>=3.5.0->en-core-web-sm==3.5.0) (1.2.0)\n",
      "Requirement already satisfied: marisa-trie>=0.7.7 in /Users/1003427/Library/Python/3.9/lib/python/site-packages (from language-data>=1.2->langcodes<4.0.0,>=3.2.0->spacy<3.6.0,>=3.5.0->en-core-web-sm==3.5.0) (1.2.0)\n",
      "Requirement already satisfied: pathlib-abc==0.1.1 in /Users/1003427/Library/Python/3.9/lib/python/site-packages (from pathy>=0.10.0->spacy<3.6.0,>=3.5.0->en-core-web-sm==3.5.0) (0.1.1)\n",
      "Requirement already satisfied: typing-extensions>=4.2.0 in /Users/1003427/Library/Python/3.9/lib/python/site-packages (from pydantic!=1.8,!=1.8.1,<1.11.0,>=1.7.4->spacy<3.6.0,>=3.5.0->en-core-web-sm==3.5.0) (4.12.2)\n",
      "Requirement already satisfied: idna<4,>=2.5 in /Users/1003427/Library/Python/3.9/lib/python/site-packages (from requests<3.0.0,>=2.13.0->spacy<3.6.0,>=3.5.0->en-core-web-sm==3.5.0) (3.10)\n",
      "Requirement already satisfied: charset-normalizer<4,>=2 in /Users/1003427/Library/Python/3.9/lib/python/site-packages (from requests<3.0.0,>=2.13.0->spacy<3.6.0,>=3.5.0->en-core-web-sm==3.5.0) (3.3.2)\n",
      "Requirement already satisfied: urllib3<3,>=1.21.1 in /Users/1003427/Library/Python/3.9/lib/python/site-packages (from requests<3.0.0,>=2.13.0->spacy<3.6.0,>=3.5.0->en-core-web-sm==3.5.0) (2.2.3)\n",
      "Requirement already satisfied: certifi>=2017.4.17 in /Users/1003427/Library/Python/3.9/lib/python/site-packages (from requests<3.0.0,>=2.13.0->spacy<3.6.0,>=3.5.0->en-core-web-sm==3.5.0) (2024.8.30)\n",
      "Requirement already satisfied: confection<1.0.0,>=0.0.1 in /Users/1003427/Library/Python/3.9/lib/python/site-packages (from thinc<8.2.0,>=8.1.8->spacy<3.6.0,>=3.5.0->en-core-web-sm==3.5.0) (0.1.5)\n",
      "Requirement already satisfied: blis<0.8.0,>=0.7.8 in /Users/1003427/Library/Python/3.9/lib/python/site-packages (from thinc<8.2.0,>=8.1.8->spacy<3.6.0,>=3.5.0->en-core-web-sm==3.5.0) (0.7.11)\n",
      "Requirement already satisfied: click<9.0.0,>=7.1.1 in /Users/1003427/Library/Python/3.9/lib/python/site-packages (from typer<0.10.0,>=0.3.0->spacy<3.6.0,>=3.5.0->en-core-web-sm==3.5.0) (8.1.7)\n",
      "Requirement already satisfied: MarkupSafe>=2.0 in /Users/1003427/Library/Python/3.9/lib/python/site-packages (from jinja2->spacy<3.6.0,>=3.5.0->en-core-web-sm==3.5.0) (2.1.5)\n"
     ]
    },
    {
     "name": "stderr",
     "output_type": "stream",
     "text": [
      "WARNING: You are using pip version 21.2.4; however, version 24.2 is available.\n",
      "You should consider upgrading via the '/Library/Developer/CommandLineTools/usr/bin/python3 -m pip install --upgrade pip' command.\n"
     ]
    }
   ],
   "source": [
    "%%bash\n",
    "pip3 install nbformat\n",
    "pip3 install spacytextblob\n",
    "pip3 install spacy\n",
    "pip3 install textblob\n",
    "pip3 install spacy download en_core_web_sm\n",
    "pip3 install https://github.com/explosion/spacy-models/releases/download/en_core_web_sm-3.5.0/en_core_web_sm-3.5.0.tar.gz\n"
   ]
  },
  {
   "cell_type": "code",
   "execution_count": 69,
   "metadata": {},
   "outputs": [],
   "source": [
    "import spacy\n",
    "from spacytextblob.spacytextblob import SpacyTextBlob\n"
   ]
  },
  {
   "cell_type": "code",
   "execution_count": 70,
   "metadata": {},
   "outputs": [
    {
     "name": "stderr",
     "output_type": "stream",
     "text": [
      "/Users/1003427/Library/Python/3.9/lib/python/site-packages/spacy/util.py:910: UserWarning: [W095] Model 'en_core_web_sm' (3.5.0) was trained with spaCy v3.5.0 and may not be 100% compatible with the current version (3.8.2). If you see errors or degraded performance, download a newer compatible model or retrain your custom model with the current spaCy version. For more details and available updates, run: python -m spacy validate\n",
      "  warnings.warn(warn_msg)\n"
     ]
    }
   ],
   "source": [
    "nlp = spacy.load('en_core_web_sm')\n",
    "nlp.add_pipe('spacytextblob')\n",
    "\n",
    "#Example 1\n",
    "\n",
    "text = 'I had an awesome day today. It was the greatest day ever! Going to the park is the best thing in the world.'\n",
    "doc = nlp(text)"
   ]
  },
  {
   "cell_type": "code",
   "execution_count": 71,
   "metadata": {},
   "outputs": [
    {
     "data": {
      "text/plain": [
       "1.0"
      ]
     },
     "execution_count": 71,
     "metadata": {},
     "output_type": "execute_result"
    }
   ],
   "source": [
    "doc._.blob.polarity"
   ]
  },
  {
   "cell_type": "markdown",
   "metadata": {},
   "source": [
    "A *polarity* of 1 indicates the the statement contains exclusively positive language "
   ]
  },
  {
   "cell_type": "code",
   "execution_count": 72,
   "metadata": {},
   "outputs": [
    {
     "data": {
      "text/plain": [
       "0.7666666666666666"
      ]
     },
     "execution_count": 72,
     "metadata": {},
     "output_type": "execute_result"
    }
   ],
   "source": [
    "doc._.blob.subjectivity"
   ]
  },
  {
   "cell_type": "markdown",
   "metadata": {},
   "source": [
    "A *Subjectivity* of 0.77 indicates that the text is mostly made up of words that have strong emotions"
   ]
  },
  {
   "cell_type": "markdown",
   "metadata": {},
   "source": [
    "Lets do another example"
   ]
  },
  {
   "cell_type": "code",
   "execution_count": 73,
   "metadata": {},
   "outputs": [],
   "source": [
    "# Example 2 (Chatgpt)\n",
    "text = 'The product did not meet the advertised specifications, with defects in build quality and multiple malfunctions occuring within one week of use'\n",
    "doc = nlp(text)"
   ]
  },
  {
   "cell_type": "code",
   "execution_count": 74,
   "metadata": {},
   "outputs": [
    {
     "data": {
      "text/plain": [
       "0.0"
      ]
     },
     "execution_count": 74,
     "metadata": {},
     "output_type": "execute_result"
    }
   ],
   "source": [
    "doc._.blob.polarity"
   ]
  },
  {
   "cell_type": "markdown",
   "metadata": {},
   "source": [
    "A *Polarity* of 0 indicates the statement has no emotional words and is fully neutral"
   ]
  },
  {
   "cell_type": "code",
   "execution_count": 75,
   "metadata": {},
   "outputs": [
    {
     "data": {
      "text/plain": [
       "0.0"
      ]
     },
     "execution_count": 75,
     "metadata": {},
     "output_type": "execute_result"
    }
   ],
   "source": [
    "doc._.blob.subjectivity"
   ]
  },
  {
   "cell_type": "markdown",
   "metadata": {},
   "source": [
    "A *subjectivity* of 0 indicates that the statement is solely based on facts and no personal feelings or judgements whatsoever"
   ]
  },
  {
   "cell_type": "markdown",
   "metadata": {},
   "source": [
    "## Summary \n",
    "- Sentiment Anaylses uses polarity and subjectivity to evaluate a statement based on its emotional words, and bias from the author"
   ]
  },
  {
   "cell_type": "markdown",
   "metadata": {},
   "source": [
    "#### Soures \n",
    "- chatGPT,Personal Communication, Accessed 8 October, 2024"
   ]
  }
 ],
 "metadata": {
  "kernelspec": {
   "display_name": "Python 3",
   "language": "python",
   "name": "python3"
  },
  "language_info": {
   "codemirror_mode": {
    "name": "ipython",
    "version": 3
   },
   "file_extension": ".py",
   "mimetype": "text/x-python",
   "name": "python",
   "nbconvert_exporter": "python",
   "pygments_lexer": "ipython3",
   "version": "3.9.6"
  }
 },
 "nbformat": 4,
 "nbformat_minor": 2
}
