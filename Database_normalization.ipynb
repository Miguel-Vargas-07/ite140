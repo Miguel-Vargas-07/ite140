{
 "cells": [
  {
   "cell_type": "markdown",
   "metadata": {},
   "source": [
    "| Sale ID | Customer Name  | Contact Info         | Sale Date    | Comic Books Purchased                 | Accessories            | \n",
    "| ------- | -------------- | -------------------- | ------------ | ------------------------------------- | ---------------------- | \n",
    "| S5001   | Jake Peralta   | jake.p@nyc.gov       | 2024-06-01   | \"Spider-Man #1\", \"Batman #50\"         | T-Shirt, Action Figure | \n",
    "| S5002   | Amy Santiago   | amy.s@nyc.gov        | 06/02/2024   | \"Supergirl #5\"                        |                        | \n",
    "| S5003   | Charles Boyle  | charles.b@nyc.gov    | June 3, 2024 | \"X-Men #20\", \"Iron Man #3\", \"Hulk #7\" | Poster                 | \n",
    "| S5004   | Gina Linetti   | gina.linetti@fun.com | 2024/06/04   | \"Wonder Woman #12\"                    | Sticker Pack, Keychain | \n",
    "| S5005   | Jake Peralta   | jake.p@nyc.gov       | 06-05-2024   | \"Batman #50\"                          | T-Shirt                | \n",
    "| S5006   | Terry Jeffords | terry.j@nyc.gov      | 2024-06-06   | \"Captain America #10\"              | Action Figure          | "
   ]
  },
  {
   "cell_type": "markdown",
   "metadata": {},
   "source": []
  },
  {
   "cell_type": "markdown",
   "metadata": {},
   "source": []
  },
  {
   "cell_type": "markdown",
   "metadata": {},
   "source": []
  },
  {
   "cell_type": "markdown",
   "metadata": {},
   "source": []
  },
  {
   "cell_type": "markdown",
   "metadata": {},
   "source": []
  }
 ],
 "metadata": {
  "language_info": {
   "name": "python"
  }
 },
 "nbformat": 4,
 "nbformat_minor": 2
}
